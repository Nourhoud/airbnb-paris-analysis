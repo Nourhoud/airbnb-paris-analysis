{
 "cells": [
  {
   "cell_type": "code",
   "execution_count": 1,
   "id": "964c8944",
   "metadata": {},
   "outputs": [
    {
     "name": "stdout",
     "output_type": "stream",
     "text": [
      "Dimensions : (86064, 79)\n"
     ]
    },
    {
     "data": {
      "text/html": [
       "<div>\n",
       "<style scoped>\n",
       "    .dataframe tbody tr th:only-of-type {\n",
       "        vertical-align: middle;\n",
       "    }\n",
       "\n",
       "    .dataframe tbody tr th {\n",
       "        vertical-align: top;\n",
       "    }\n",
       "\n",
       "    .dataframe thead th {\n",
       "        text-align: right;\n",
       "    }\n",
       "</style>\n",
       "<table border=\"1\" class=\"dataframe\">\n",
       "  <thead>\n",
       "    <tr style=\"text-align: right;\">\n",
       "      <th></th>\n",
       "      <th>id</th>\n",
       "      <th>listing_url</th>\n",
       "      <th>scrape_id</th>\n",
       "      <th>last_scraped</th>\n",
       "      <th>source</th>\n",
       "      <th>name</th>\n",
       "      <th>description</th>\n",
       "      <th>neighborhood_overview</th>\n",
       "      <th>picture_url</th>\n",
       "      <th>host_id</th>\n",
       "      <th>...</th>\n",
       "      <th>review_scores_communication</th>\n",
       "      <th>review_scores_location</th>\n",
       "      <th>review_scores_value</th>\n",
       "      <th>license</th>\n",
       "      <th>instant_bookable</th>\n",
       "      <th>calculated_host_listings_count</th>\n",
       "      <th>calculated_host_listings_count_entire_homes</th>\n",
       "      <th>calculated_host_listings_count_private_rooms</th>\n",
       "      <th>calculated_host_listings_count_shared_rooms</th>\n",
       "      <th>reviews_per_month</th>\n",
       "    </tr>\n",
       "  </thead>\n",
       "  <tbody>\n",
       "    <tr>\n",
       "      <th>0</th>\n",
       "      <td>3109</td>\n",
       "      <td>https://www.airbnb.com/rooms/3109</td>\n",
       "      <td>20250303043259</td>\n",
       "      <td>2025-03-11</td>\n",
       "      <td>city scrape</td>\n",
       "      <td>zen and calm</td>\n",
       "      <td>Lovely Appartment with one bedroom with a Quee...</td>\n",
       "      <td>Good restaurants&lt;br /&gt;very close the Montparna...</td>\n",
       "      <td>https://a0.muscache.com/pictures/miso/Hosting-...</td>\n",
       "      <td>3631</td>\n",
       "      <td>...</td>\n",
       "      <td>5.00</td>\n",
       "      <td>5.00</td>\n",
       "      <td>5.00</td>\n",
       "      <td>7511409139079</td>\n",
       "      <td>t</td>\n",
       "      <td>1</td>\n",
       "      <td>1</td>\n",
       "      <td>0</td>\n",
       "      <td>0</td>\n",
       "      <td>0.04</td>\n",
       "    </tr>\n",
       "    <tr>\n",
       "      <th>1</th>\n",
       "      <td>5396</td>\n",
       "      <td>https://www.airbnb.com/rooms/5396</td>\n",
       "      <td>20250303043259</td>\n",
       "      <td>2025-03-03</td>\n",
       "      <td>city scrape</td>\n",
       "      <td>Your perfect Paris studio on Île Saint-Louis</td>\n",
       "      <td>Cozy, well-appointed and graciously designed s...</td>\n",
       "      <td>You are within walking distance to the Louvre,...</td>\n",
       "      <td>https://a0.muscache.com/pictures/52413/f9bf76f...</td>\n",
       "      <td>7903</td>\n",
       "      <td>...</td>\n",
       "      <td>4.85</td>\n",
       "      <td>4.95</td>\n",
       "      <td>4.59</td>\n",
       "      <td>7510402838018</td>\n",
       "      <td>f</td>\n",
       "      <td>1</td>\n",
       "      <td>1</td>\n",
       "      <td>0</td>\n",
       "      <td>0</td>\n",
       "      <td>2.28</td>\n",
       "    </tr>\n",
       "    <tr>\n",
       "      <th>2</th>\n",
       "      <td>7397</td>\n",
       "      <td>https://www.airbnb.com/rooms/7397</td>\n",
       "      <td>20250303043259</td>\n",
       "      <td>2025-03-07</td>\n",
       "      <td>city scrape</td>\n",
       "      <td>MARAIS - 2ROOMS APT - 2/4 PEOPLE</td>\n",
       "      <td>VERY CONVENIENT, WITH THE BEST LOCATION !</td>\n",
       "      <td>NaN</td>\n",
       "      <td>https://a0.muscache.com/pictures/67928287/330b...</td>\n",
       "      <td>2626</td>\n",
       "      <td>...</td>\n",
       "      <td>4.89</td>\n",
       "      <td>4.94</td>\n",
       "      <td>4.75</td>\n",
       "      <td>7510400829623</td>\n",
       "      <td>f</td>\n",
       "      <td>1</td>\n",
       "      <td>1</td>\n",
       "      <td>0</td>\n",
       "      <td>0</td>\n",
       "      <td>2.20</td>\n",
       "    </tr>\n",
       "    <tr>\n",
       "      <th>3</th>\n",
       "      <td>7964</td>\n",
       "      <td>https://www.airbnb.com/rooms/7964</td>\n",
       "      <td>20250303043259</td>\n",
       "      <td>2025-03-04</td>\n",
       "      <td>previous scrape</td>\n",
       "      <td>Sunny apartment with balcony</td>\n",
       "      <td>We are renting our a spacious, sunny fully fur...</td>\n",
       "      <td>NaN</td>\n",
       "      <td>https://a0.muscache.com/pictures/miso/Hosting-...</td>\n",
       "      <td>22155</td>\n",
       "      <td>...</td>\n",
       "      <td>5.00</td>\n",
       "      <td>5.00</td>\n",
       "      <td>5.00</td>\n",
       "      <td>7510903576564</td>\n",
       "      <td>f</td>\n",
       "      <td>1</td>\n",
       "      <td>1</td>\n",
       "      <td>0</td>\n",
       "      <td>0</td>\n",
       "      <td>0.03</td>\n",
       "    </tr>\n",
       "    <tr>\n",
       "      <th>4</th>\n",
       "      <td>9359</td>\n",
       "      <td>https://www.airbnb.com/rooms/9359</td>\n",
       "      <td>20250303043259</td>\n",
       "      <td>2025-03-07</td>\n",
       "      <td>city scrape</td>\n",
       "      <td>Cozy, Central Paris: WALK or VELIB EVERYWHERE !</td>\n",
       "      <td>Location! Location! Location! Just bring your ...</td>\n",
       "      <td>NaN</td>\n",
       "      <td>https://a0.muscache.com/pictures/c2965945-061f...</td>\n",
       "      <td>28422</td>\n",
       "      <td>...</td>\n",
       "      <td>NaN</td>\n",
       "      <td>NaN</td>\n",
       "      <td>NaN</td>\n",
       "      <td>Available with a mobility lease only (\"bail mo...</td>\n",
       "      <td>f</td>\n",
       "      <td>1</td>\n",
       "      <td>1</td>\n",
       "      <td>0</td>\n",
       "      <td>0</td>\n",
       "      <td>NaN</td>\n",
       "    </tr>\n",
       "  </tbody>\n",
       "</table>\n",
       "<p>5 rows × 79 columns</p>\n",
       "</div>"
      ],
      "text/plain": [
       "     id                        listing_url       scrape_id last_scraped  \\\n",
       "0  3109  https://www.airbnb.com/rooms/3109  20250303043259   2025-03-11   \n",
       "1  5396  https://www.airbnb.com/rooms/5396  20250303043259   2025-03-03   \n",
       "2  7397  https://www.airbnb.com/rooms/7397  20250303043259   2025-03-07   \n",
       "3  7964  https://www.airbnb.com/rooms/7964  20250303043259   2025-03-04   \n",
       "4  9359  https://www.airbnb.com/rooms/9359  20250303043259   2025-03-07   \n",
       "\n",
       "            source                                             name  \\\n",
       "0      city scrape                                     zen and calm   \n",
       "1      city scrape     Your perfect Paris studio on Île Saint-Louis   \n",
       "2      city scrape                 MARAIS - 2ROOMS APT - 2/4 PEOPLE   \n",
       "3  previous scrape                     Sunny apartment with balcony   \n",
       "4      city scrape  Cozy, Central Paris: WALK or VELIB EVERYWHERE !   \n",
       "\n",
       "                                         description  \\\n",
       "0  Lovely Appartment with one bedroom with a Quee...   \n",
       "1  Cozy, well-appointed and graciously designed s...   \n",
       "2          VERY CONVENIENT, WITH THE BEST LOCATION !   \n",
       "3  We are renting our a spacious, sunny fully fur...   \n",
       "4  Location! Location! Location! Just bring your ...   \n",
       "\n",
       "                               neighborhood_overview  \\\n",
       "0  Good restaurants<br />very close the Montparna...   \n",
       "1  You are within walking distance to the Louvre,...   \n",
       "2                                                NaN   \n",
       "3                                                NaN   \n",
       "4                                                NaN   \n",
       "\n",
       "                                         picture_url  host_id  ...  \\\n",
       "0  https://a0.muscache.com/pictures/miso/Hosting-...     3631  ...   \n",
       "1  https://a0.muscache.com/pictures/52413/f9bf76f...     7903  ...   \n",
       "2  https://a0.muscache.com/pictures/67928287/330b...     2626  ...   \n",
       "3  https://a0.muscache.com/pictures/miso/Hosting-...    22155  ...   \n",
       "4  https://a0.muscache.com/pictures/c2965945-061f...    28422  ...   \n",
       "\n",
       "  review_scores_communication review_scores_location review_scores_value  \\\n",
       "0                        5.00                   5.00                5.00   \n",
       "1                        4.85                   4.95                4.59   \n",
       "2                        4.89                   4.94                4.75   \n",
       "3                        5.00                   5.00                5.00   \n",
       "4                         NaN                    NaN                 NaN   \n",
       "\n",
       "                                             license instant_bookable  \\\n",
       "0                                      7511409139079                t   \n",
       "1                                      7510402838018                f   \n",
       "2                                      7510400829623                f   \n",
       "3                                      7510903576564                f   \n",
       "4  Available with a mobility lease only (\"bail mo...                f   \n",
       "\n",
       "  calculated_host_listings_count calculated_host_listings_count_entire_homes  \\\n",
       "0                              1                                           1   \n",
       "1                              1                                           1   \n",
       "2                              1                                           1   \n",
       "3                              1                                           1   \n",
       "4                              1                                           1   \n",
       "\n",
       "  calculated_host_listings_count_private_rooms  \\\n",
       "0                                            0   \n",
       "1                                            0   \n",
       "2                                            0   \n",
       "3                                            0   \n",
       "4                                            0   \n",
       "\n",
       "  calculated_host_listings_count_shared_rooms reviews_per_month  \n",
       "0                                           0              0.04  \n",
       "1                                           0              2.28  \n",
       "2                                           0              2.20  \n",
       "3                                           0              0.03  \n",
       "4                                           0               NaN  \n",
       "\n",
       "[5 rows x 79 columns]"
      ]
     },
     "execution_count": 1,
     "metadata": {},
     "output_type": "execute_result"
    }
   ],
   "source": [
    "import pandas as pd\n",
    "\n",
    "# Charger les données\n",
    "df = pd.read_csv(\"data/listings.csv.gz\", compression='gzip', low_memory=False)\n",
    "\n",
    "# Dimensions du jeu de données\n",
    "print(\"Dimensions :\", df.shape)\n",
    "\n",
    "# Aperçu\n",
    "df.head()\n"
   ]
  },
  {
   "cell_type": "code",
   "execution_count": 2,
   "id": "1627a00f",
   "metadata": {},
   "outputs": [
    {
     "data": {
      "text/plain": [
       "Index(['id', 'listing_url', 'scrape_id', 'last_scraped', 'source', 'name',\n",
       "       'description', 'neighborhood_overview', 'picture_url', 'host_id',\n",
       "       'host_url', 'host_name', 'host_since', 'host_location', 'host_about',\n",
       "       'host_response_time', 'host_response_rate', 'host_acceptance_rate',\n",
       "       'host_is_superhost', 'host_thumbnail_url', 'host_picture_url',\n",
       "       'host_neighbourhood', 'host_listings_count',\n",
       "       'host_total_listings_count', 'host_verifications',\n",
       "       'host_has_profile_pic', 'host_identity_verified', 'neighbourhood',\n",
       "       'neighbourhood_cleansed', 'neighbourhood_group_cleansed', 'latitude',\n",
       "       'longitude', 'property_type', 'room_type', 'accommodates', 'bathrooms',\n",
       "       'bathrooms_text', 'bedrooms', 'beds', 'amenities', 'price',\n",
       "       'minimum_nights', 'maximum_nights', 'minimum_minimum_nights',\n",
       "       'maximum_minimum_nights', 'minimum_maximum_nights',\n",
       "       'maximum_maximum_nights', 'minimum_nights_avg_ntm',\n",
       "       'maximum_nights_avg_ntm', 'calendar_updated', 'has_availability',\n",
       "       'availability_30', 'availability_60', 'availability_90',\n",
       "       'availability_365', 'calendar_last_scraped', 'number_of_reviews',\n",
       "       'number_of_reviews_ltm', 'number_of_reviews_l30d', 'availability_eoy',\n",
       "       'number_of_reviews_ly', 'estimated_occupancy_l365d',\n",
       "       'estimated_revenue_l365d', 'first_review', 'last_review',\n",
       "       'review_scores_rating', 'review_scores_accuracy',\n",
       "       'review_scores_cleanliness', 'review_scores_checkin',\n",
       "       'review_scores_communication', 'review_scores_location',\n",
       "       'review_scores_value', 'license', 'instant_bookable',\n",
       "       'calculated_host_listings_count',\n",
       "       'calculated_host_listings_count_entire_homes',\n",
       "       'calculated_host_listings_count_private_rooms',\n",
       "       'calculated_host_listings_count_shared_rooms', 'reviews_per_month'],\n",
       "      dtype='object')"
      ]
     },
     "execution_count": 2,
     "metadata": {},
     "output_type": "execute_result"
    }
   ],
   "source": [
    "df.columns"
   ]
  },
  {
   "cell_type": "code",
   "execution_count": 3,
   "id": "ffa99ca8",
   "metadata": {},
   "outputs": [
    {
     "data": {
      "text/html": [
       "<div>\n",
       "<style scoped>\n",
       "    .dataframe tbody tr th:only-of-type {\n",
       "        vertical-align: middle;\n",
       "    }\n",
       "\n",
       "    .dataframe tbody tr th {\n",
       "        vertical-align: top;\n",
       "    }\n",
       "\n",
       "    .dataframe thead th {\n",
       "        text-align: right;\n",
       "    }\n",
       "</style>\n",
       "<table border=\"1\" class=\"dataframe\">\n",
       "  <thead>\n",
       "    <tr style=\"text-align: right;\">\n",
       "      <th></th>\n",
       "      <th>id</th>\n",
       "      <th>name</th>\n",
       "      <th>host_id</th>\n",
       "      <th>neighbourhood_cleansed</th>\n",
       "      <th>room_type</th>\n",
       "      <th>price</th>\n",
       "      <th>minimum_nights</th>\n",
       "      <th>number_of_reviews</th>\n",
       "      <th>reviews_per_month</th>\n",
       "      <th>availability_365</th>\n",
       "      <th>last_review</th>\n",
       "    </tr>\n",
       "  </thead>\n",
       "  <tbody>\n",
       "    <tr>\n",
       "      <th>0</th>\n",
       "      <td>3109</td>\n",
       "      <td>zen and calm</td>\n",
       "      <td>3631</td>\n",
       "      <td>Observatoire</td>\n",
       "      <td>Entire home/apt</td>\n",
       "      <td>$100.00</td>\n",
       "      <td>2</td>\n",
       "      <td>4</td>\n",
       "      <td>0.04</td>\n",
       "      <td>356</td>\n",
       "      <td>2019-10-24</td>\n",
       "    </tr>\n",
       "    <tr>\n",
       "      <th>1</th>\n",
       "      <td>5396</td>\n",
       "      <td>Your perfect Paris studio on Île Saint-Louis</td>\n",
       "      <td>7903</td>\n",
       "      <td>Hôtel-de-Ville</td>\n",
       "      <td>Entire home/apt</td>\n",
       "      <td>$97.00</td>\n",
       "      <td>1</td>\n",
       "      <td>435</td>\n",
       "      <td>2.28</td>\n",
       "      <td>114</td>\n",
       "      <td>2025-02-16</td>\n",
       "    </tr>\n",
       "    <tr>\n",
       "      <th>2</th>\n",
       "      <td>7397</td>\n",
       "      <td>MARAIS - 2ROOMS APT - 2/4 PEOPLE</td>\n",
       "      <td>2626</td>\n",
       "      <td>Hôtel-de-Ville</td>\n",
       "      <td>Entire home/apt</td>\n",
       "      <td>$129.00</td>\n",
       "      <td>10</td>\n",
       "      <td>373</td>\n",
       "      <td>2.20</td>\n",
       "      <td>188</td>\n",
       "      <td>2025-02-26</td>\n",
       "    </tr>\n",
       "    <tr>\n",
       "      <th>3</th>\n",
       "      <td>7964</td>\n",
       "      <td>Sunny apartment with balcony</td>\n",
       "      <td>22155</td>\n",
       "      <td>Opéra</td>\n",
       "      <td>Entire home/apt</td>\n",
       "      <td>NaN</td>\n",
       "      <td>7</td>\n",
       "      <td>5</td>\n",
       "      <td>0.03</td>\n",
       "      <td>0</td>\n",
       "      <td>2015-09-14</td>\n",
       "    </tr>\n",
       "    <tr>\n",
       "      <th>4</th>\n",
       "      <td>9359</td>\n",
       "      <td>Cozy, Central Paris: WALK or VELIB EVERYWHERE !</td>\n",
       "      <td>28422</td>\n",
       "      <td>Louvre</td>\n",
       "      <td>Entire home/apt</td>\n",
       "      <td>$75.00</td>\n",
       "      <td>180</td>\n",
       "      <td>0</td>\n",
       "      <td>NaN</td>\n",
       "      <td>358</td>\n",
       "      <td>NaN</td>\n",
       "    </tr>\n",
       "  </tbody>\n",
       "</table>\n",
       "</div>"
      ],
      "text/plain": [
       "     id                                             name  host_id  \\\n",
       "0  3109                                     zen and calm     3631   \n",
       "1  5396     Your perfect Paris studio on Île Saint-Louis     7903   \n",
       "2  7397                 MARAIS - 2ROOMS APT - 2/4 PEOPLE     2626   \n",
       "3  7964                     Sunny apartment with balcony    22155   \n",
       "4  9359  Cozy, Central Paris: WALK or VELIB EVERYWHERE !    28422   \n",
       "\n",
       "  neighbourhood_cleansed        room_type    price  minimum_nights  \\\n",
       "0           Observatoire  Entire home/apt  $100.00               2   \n",
       "1         Hôtel-de-Ville  Entire home/apt   $97.00               1   \n",
       "2         Hôtel-de-Ville  Entire home/apt  $129.00              10   \n",
       "3                  Opéra  Entire home/apt      NaN               7   \n",
       "4                 Louvre  Entire home/apt   $75.00             180   \n",
       "\n",
       "   number_of_reviews  reviews_per_month  availability_365 last_review  \n",
       "0                  4               0.04               356  2019-10-24  \n",
       "1                435               2.28               114  2025-02-16  \n",
       "2                373               2.20               188  2025-02-26  \n",
       "3                  5               0.03                 0  2015-09-14  \n",
       "4                  0                NaN               358         NaN  "
      ]
     },
     "execution_count": 3,
     "metadata": {},
     "output_type": "execute_result"
    }
   ],
   "source": [
    "\n",
    "colonnes_utiles = [\n",
    "    'id', 'name', 'host_id', 'neighbourhood_cleansed', 'room_type',\n",
    "    'price', 'minimum_nights', 'number_of_reviews',\n",
    "    'reviews_per_month', 'availability_365', 'last_review'\n",
    "]\n",
    "\n",
    "df = df[colonnes_utiles]\n",
    "\n",
    "\n",
    "df.head()\n"
   ]
  },
  {
   "cell_type": "code",
   "execution_count": 6,
   "id": "b6caee6e",
   "metadata": {},
   "outputs": [
    {
     "data": {
      "text/plain": [
       "id                          int64\n",
       "name                       object\n",
       "host_id                     int64\n",
       "neighbourhood_cleansed     object\n",
       "room_type                  object\n",
       "price                      object\n",
       "minimum_nights              int64\n",
       "number_of_reviews           int64\n",
       "reviews_per_month         float64\n",
       "availability_365            int64\n",
       "last_review                object\n",
       "dtype: object"
      ]
     },
     "execution_count": 6,
     "metadata": {},
     "output_type": "execute_result"
    }
   ],
   "source": [
    "df.dtypes"
   ]
  },
  {
   "cell_type": "code",
   "execution_count": 7,
   "id": "ed25d3dc",
   "metadata": {},
   "outputs": [
    {
     "name": "stderr",
     "output_type": "stream",
     "text": [
      "<>:1: SyntaxWarning: invalid escape sequence '\\$'\n",
      "<>:1: SyntaxWarning: invalid escape sequence '\\$'\n",
      "C:\\Users\\HP\\AppData\\Local\\Temp\\ipykernel_15416\\3299273603.py:1: SyntaxWarning: invalid escape sequence '\\$'\n",
      "  df['price'] = df['price'].replace('[\\$,]', '', regex=True).astype(float)\n"
     ]
    },
    {
     "data": {
      "text/plain": [
       "0    100.0\n",
       "1     97.0\n",
       "2    129.0\n",
       "3      NaN\n",
       "4     75.0\n",
       "Name: price, dtype: float64"
      ]
     },
     "execution_count": 7,
     "metadata": {},
     "output_type": "execute_result"
    }
   ],
   "source": [
    "\n",
    "df['price'] = df['price'].replace('[\\$,]', '', regex=True).astype(float)\n",
    "\n",
    "df['price'].head()\n"
   ]
  },
  {
   "cell_type": "code",
   "execution_count": 8,
   "id": "6e3bae95",
   "metadata": {},
   "outputs": [
    {
     "data": {
      "text/plain": [
       "id                            0\n",
       "name                          0\n",
       "host_id                       0\n",
       "neighbourhood_cleansed        0\n",
       "room_type                     0\n",
       "price                     30409\n",
       "minimum_nights                0\n",
       "number_of_reviews             0\n",
       "reviews_per_month         21794\n",
       "availability_365              0\n",
       "last_review               21794\n",
       "dtype: int64"
      ]
     },
     "execution_count": 8,
     "metadata": {},
     "output_type": "execute_result"
    }
   ],
   "source": [
    "# Compter les valeurs manquantes par colonne\n",
    "df.isna().sum()\n"
   ]
  },
  {
   "cell_type": "code",
   "execution_count": 9,
   "id": "45d867c2",
   "metadata": {},
   "outputs": [
    {
     "data": {
      "text/plain": [
       "id                        0\n",
       "name                      0\n",
       "host_id                   0\n",
       "neighbourhood_cleansed    0\n",
       "room_type                 0\n",
       "price                     0\n",
       "minimum_nights            0\n",
       "number_of_reviews         0\n",
       "reviews_per_month         0\n",
       "availability_365          0\n",
       "last_review               0\n",
       "dtype: int64"
      ]
     },
     "execution_count": 9,
     "metadata": {},
     "output_type": "execute_result"
    }
   ],
   "source": [
    "# Supprimer les lignes sans prix\n",
    "df = df[df['price'].notna()]\n",
    "\n",
    "# Supprimer les lignes sans reviews_per_month\n",
    "df = df[df['reviews_per_month'].notna()]\n",
    "\n",
    "# Réinitialiser l’index\n",
    "df = df.reset_index(drop=True)\n",
    "\n",
    "# Vérification finale\n",
    "df.isna().sum()\n"
   ]
  },
  {
   "cell_type": "markdown",
   "id": "e26d6a59",
   "metadata": {},
   "source": [
    "Un logement sans prix n’est pas exploitable dans une analyse :\n",
    "on ne peut pas le comparer, ni le visualiser, ni l’intégrer dans un modèle.\n",
    "\n",
    "👉 C’est obligatoire pour notre objectif, donc on supprime ces lignes sans price."
   ]
  },
  {
   "cell_type": "markdown",
   "id": "92ec1275",
   "metadata": {},
   "source": [
    "Ces valeurs sont souvent manquantes parce que le logement n’a jamais eu de réservation\n",
    "Donc :\n",
    "\n",
    "Pas de review = pas d’activité\n",
    "\n",
    "On ne peut pas évaluer sa performance\n",
    "\n",
    "👉 Ces lignes ne nous apportent aucune valeur pour l’analyse, donc on les élimine aussi."
   ]
  },
  {
   "cell_type": "code",
   "execution_count": 12,
   "id": "8f493eb8",
   "metadata": {},
   "outputs": [
    {
     "data": {
      "text/html": [
       "<div>\n",
       "<style scoped>\n",
       "    .dataframe tbody tr th:only-of-type {\n",
       "        vertical-align: middle;\n",
       "    }\n",
       "\n",
       "    .dataframe tbody tr th {\n",
       "        vertical-align: top;\n",
       "    }\n",
       "\n",
       "    .dataframe thead th {\n",
       "        text-align: right;\n",
       "    }\n",
       "</style>\n",
       "<table border=\"1\" class=\"dataframe\">\n",
       "  <thead>\n",
       "    <tr style=\"text-align: right;\">\n",
       "      <th></th>\n",
       "      <th>id</th>\n",
       "      <th>host_id</th>\n",
       "      <th>price</th>\n",
       "      <th>minimum_nights</th>\n",
       "      <th>number_of_reviews</th>\n",
       "      <th>reviews_per_month</th>\n",
       "      <th>availability_365</th>\n",
       "    </tr>\n",
       "  </thead>\n",
       "  <tbody>\n",
       "    <tr>\n",
       "      <th>count</th>\n",
       "      <td>4.215900e+04</td>\n",
       "      <td>4.215900e+04</td>\n",
       "      <td>42159.000000</td>\n",
       "      <td>42159.000000</td>\n",
       "      <td>42159.000000</td>\n",
       "      <td>42159.000000</td>\n",
       "      <td>42159.000000</td>\n",
       "    </tr>\n",
       "    <tr>\n",
       "      <th>mean</th>\n",
       "      <td>6.558333e+17</td>\n",
       "      <td>1.996266e+08</td>\n",
       "      <td>208.156076</td>\n",
       "      <td>9.611684</td>\n",
       "      <td>39.237648</td>\n",
       "      <td>1.280610</td>\n",
       "      <td>157.251714</td>\n",
       "    </tr>\n",
       "    <tr>\n",
       "      <th>std</th>\n",
       "      <td>5.055694e+17</td>\n",
       "      <td>2.112576e+08</td>\n",
       "      <td>474.038907</td>\n",
       "      <td>37.481534</td>\n",
       "      <td>74.746574</td>\n",
       "      <td>1.466252</td>\n",
       "      <td>124.150904</td>\n",
       "    </tr>\n",
       "    <tr>\n",
       "      <th>min</th>\n",
       "      <td>3.109000e+03</td>\n",
       "      <td>2.626000e+03</td>\n",
       "      <td>8.000000</td>\n",
       "      <td>1.000000</td>\n",
       "      <td>0.000000</td>\n",
       "      <td>0.000000</td>\n",
       "      <td>0.000000</td>\n",
       "    </tr>\n",
       "    <tr>\n",
       "      <th>25%</th>\n",
       "      <td>4.010087e+07</td>\n",
       "      <td>1.985276e+07</td>\n",
       "      <td>94.000000</td>\n",
       "      <td>2.000000</td>\n",
       "      <td>4.000000</td>\n",
       "      <td>0.320000</td>\n",
       "      <td>34.000000</td>\n",
       "    </tr>\n",
       "    <tr>\n",
       "      <th>50%</th>\n",
       "      <td>8.515339e+17</td>\n",
       "      <td>8.724697e+07</td>\n",
       "      <td>136.000000</td>\n",
       "      <td>2.000000</td>\n",
       "      <td>15.000000</td>\n",
       "      <td>0.820000</td>\n",
       "      <td>147.000000</td>\n",
       "    </tr>\n",
       "    <tr>\n",
       "      <th>75%</th>\n",
       "      <td>1.102188e+18</td>\n",
       "      <td>4.038214e+08</td>\n",
       "      <td>219.000000</td>\n",
       "      <td>4.000000</td>\n",
       "      <td>42.000000</td>\n",
       "      <td>1.740000</td>\n",
       "      <td>269.000000</td>\n",
       "    </tr>\n",
       "    <tr>\n",
       "      <th>max</th>\n",
       "      <td>1.367487e+18</td>\n",
       "      <td>6.809570e+08</td>\n",
       "      <td>27000.000000</td>\n",
       "      <td>500.000000</td>\n",
       "      <td>3667.000000</td>\n",
       "      <td>62.880000</td>\n",
       "      <td>365.000000</td>\n",
       "    </tr>\n",
       "  </tbody>\n",
       "</table>\n",
       "</div>"
      ],
      "text/plain": [
       "                 id       host_id         price  minimum_nights  \\\n",
       "count  4.215900e+04  4.215900e+04  42159.000000    42159.000000   \n",
       "mean   6.558333e+17  1.996266e+08    208.156076        9.611684   \n",
       "std    5.055694e+17  2.112576e+08    474.038907       37.481534   \n",
       "min    3.109000e+03  2.626000e+03      8.000000        1.000000   \n",
       "25%    4.010087e+07  1.985276e+07     94.000000        2.000000   \n",
       "50%    8.515339e+17  8.724697e+07    136.000000        2.000000   \n",
       "75%    1.102188e+18  4.038214e+08    219.000000        4.000000   \n",
       "max    1.367487e+18  6.809570e+08  27000.000000      500.000000   \n",
       "\n",
       "       number_of_reviews  reviews_per_month  availability_365  \n",
       "count       42159.000000       42159.000000      42159.000000  \n",
       "mean           39.237648           1.280610        157.251714  \n",
       "std            74.746574           1.466252        124.150904  \n",
       "min             0.000000           0.000000          0.000000  \n",
       "25%             4.000000           0.320000         34.000000  \n",
       "50%            15.000000           0.820000        147.000000  \n",
       "75%            42.000000           1.740000        269.000000  \n",
       "max          3667.000000          62.880000        365.000000  "
      ]
     },
     "execution_count": 12,
     "metadata": {},
     "output_type": "execute_result"
    }
   ],
   "source": [
    "# Statistiques générales\n",
    "df.describe()\n",
    "\n",
    "\n"
   ]
  },
  {
   "cell_type": "code",
   "execution_count": 13,
   "id": "7737a729",
   "metadata": {},
   "outputs": [
    {
     "data": {
      "text/plain": [
       "room_type\n",
       "Entire home/apt    38032\n",
       "Private room        3692\n",
       "Hotel room           351\n",
       "Shared room           84\n",
       "Name: count, dtype: int64"
      ]
     },
     "execution_count": 13,
     "metadata": {},
     "output_type": "execute_result"
    }
   ],
   "source": [
    "# Types de logements\n",
    "df['room_type'].value_counts()\n"
   ]
  },
  {
   "cell_type": "markdown",
   "id": "cc02e2aa",
   "metadata": {},
   "source": [
    "Entire home/apt domine largement (≈ 90%)\n",
    "\n",
    "Ensuite : Private room, puis quelques Hotel room et Shared room\n",
    "\n",
    "Cela montre qu’Airbnb est majoritairement utilisé à Paris pour des logements complets, pas seulement des chambres."
   ]
  },
  {
   "cell_type": "code",
   "execution_count": 14,
   "id": "9331b514",
   "metadata": {},
   "outputs": [
    {
     "data": {
      "text/plain": [
       "neighbourhood_cleansed\n",
       "Buttes-Montmartre      4064\n",
       "Popincourt             3562\n",
       "Vaugirard              3246\n",
       "Entrepôt               2885\n",
       "Passy                  2604\n",
       "Batignolles-Monceau    2539\n",
       "Opéra                  2245\n",
       "Temple                 2234\n",
       "Buttes-Chaumont        1972\n",
       "Ménilmontant           1921\n",
       "Name: count, dtype: int64"
      ]
     },
     "execution_count": 14,
     "metadata": {},
     "output_type": "execute_result"
    }
   ],
   "source": [
    "\n",
    "# Quartiers les plus fréquents\n",
    "df['neighbourhood_cleansed'].value_counts().head(10)"
   ]
  },
  {
   "cell_type": "markdown",
   "id": "b74b1924",
   "metadata": {},
   "source": [
    "Top 5 : Buttes-Montmartre, Popincourt, Vaugirard, Entrepôt, Passy\n",
    "\n",
    "Ce sont des zones très actives sur Airbnb, donc parfaites pour comparer prix/disponibilité."
   ]
  },
  {
   "cell_type": "code",
   "execution_count": 15,
   "id": "6868c014",
   "metadata": {},
   "outputs": [
    {
     "data": {
      "image/png": "[encoded data removed]",
      "text/plain": [
       "<Figure size 1000x600 with 1 Axes>"
      ]
     },
     "metadata": {},
     "output_type": "display_data"
    }
   ],
   "source": [
    "import matplotlib.pyplot as plt\n",
    "import seaborn as sns\n",
    "\n",
    "# Taille des graphiques\n",
    "plt.figure(figsize=(10,6))\n",
    "\n",
    "# Distribution des prix (limite à 500€ pour éviter les outliers extrêmes)\n",
    "sns.histplot(df[df['price'] < 500]['price'], bins=50, kde=True)\n",
    "plt.title(\"Distribution des prix (logements < 500€)\")\n",
    "plt.xlabel(\"Prix (€)\")\n",
    "plt.ylabel(\"Nombre de logements\")\n",
    "plt.show()\n"
   ]
  },
  {
   "cell_type": "markdown",
   "id": "a7bb2911",
   "metadata": {},
   "source": [
    "La majorité des logements coûtent entre 60€ et 150€.\n",
    "\n",
    "Forte asymétrie à droite (beaucoup de logements peu chers, quelques très chers)."
   ]
  },
  {
   "cell_type": "code",
   "execution_count": 16,
   "id": "ded00a75",
   "metadata": {},
   "outputs": [
    {
     "data": {
      "text/plain": [
       "room_type\n",
       "Hotel room         295.723647\n",
       "Entire home/apt    213.611801\n",
       "Private room       146.868093\n",
       "Shared room         65.857143\n",
       "Name: price, dtype: float64"
      ]
     },
     "execution_count": 16,
     "metadata": {},
     "output_type": "execute_result"
    }
   ],
   "source": [
    "df.groupby('room_type')['price'].mean().sort_values(ascending=False)"
   ]
  },
  {
   "cell_type": "code",
   "execution_count": 17,
   "id": "d3fb0609",
   "metadata": {},
   "outputs": [
    {
     "data": {
      "image/png": "[encoded data removed]",
      "text/plain": [
       "<Figure size 640x480 with 1 Axes>"
      ]
     },
     "metadata": {},
     "output_type": "display_data"
    }
   ],
   "source": [
    "sns.barplot(x='room_type', y='price', data=df)\n",
    "plt.title(\"Prix moyen par type de logement\")\n",
    "plt.ylabel(\"Prix (€)\")\n",
    "plt.xlabel(\"Type de logement\")\n",
    "plt.show()"
   ]
  },
  {
   "cell_type": "code",
   "execution_count": 18,
   "id": "9254a73f",
   "metadata": {},
   "outputs": [],
   "source": [
    "top_quartiers = df['neighbourhood_cleansed'].value_counts().head(10).index\n",
    "df_top = df[df['neighbourhood_cleansed'].isin(top_quartiers)]\n",
    "\n"
   ]
  },
  {
   "cell_type": "code",
   "execution_count": 19,
   "id": "6a4eba6a",
   "metadata": {},
   "outputs": [
    {
     "data": {
      "image/png": "[encoded data removed]",
      "text/plain": [
       "<Figure size 1200x600 with 1 Axes>"
      ]
     },
     "metadata": {},
     "output_type": "display_data"
    }
   ],
   "source": [
    "\n",
    "plt.figure(figsize=(12,6))\n",
    "sns.boxplot(data=df_top, x='neighbourhood_cleansed', y='price')\n",
    "plt.xticks(rotation=45)\n",
    "plt.title(\"Distribution des prix par quartier (Top 10)\")\n",
    "plt.show()"
   ]
  }
 ],
 "metadata": {
  "kernelspec": {
   "display_name": "venv",
   "language": "python",
   "name": "python3"
  },
  "language_info": {
   "codemirror_mode": {
    "name": "ipython",
    "version": 3
   },
   "file_extension": ".py",
   "mimetype": "text/x-python",
   "name": "python",
   "nbconvert_exporter": "python",
   "pygments_lexer": "ipython3",
   "version": "3.12.4"
  }
 },
 "nbformat": 4,
 "nbformat_minor": 5
}
